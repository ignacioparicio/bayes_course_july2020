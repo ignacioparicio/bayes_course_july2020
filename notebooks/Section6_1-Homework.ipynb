{
 "cells": [
  {
   "cell_type": "markdown",
   "metadata": {},
   "source": [
    "# Rolling Regression\n",
    "\n",
    "* [Pairs trading](https://www.quantopian.com/posts/pairs-trading-algorithm-1) is a famous technique in algorithmic trading that plays two stocks against each other.\n",
    "* For this to work, stocks must be correlated (cointegrated).\n",
    "* One common example is the price of gold (GLD) and the price of gold mining operations (GFI)."
   ]
  },
  {
   "cell_type": "code",
   "execution_count": null,
   "metadata": {},
   "outputs": [],
   "source": [
    "import pymc3 as pm\n",
    "import theano.tensor as tt\n",
    "import numpy as np\n",
    "import matplotlib.pyplot as plt\n",
    "import seaborn as sns\n",
    "import arviz as az\n",
    "import pandas as pd\n",
    "\n",
    "import warnings\n",
    "\n",
    "sampler_kwargs = {\"cores\": 4, \"chains\": 4, \"draws\": 250}\n",
    "\n",
    "warnings.simplefilter('ignore')\n",
    "\n",
    "RANDOM_SEED = 20090425"
   ]
  },
  {
   "cell_type": "markdown",
   "metadata": {},
   "source": [
    "Lets load the prices of GFI and GLD."
   ]
  },
  {
   "cell_type": "code",
   "execution_count": null,
   "metadata": {},
   "outputs": [],
   "source": [
    "prices = pd.read_csv(pm.get_data('stock_prices.csv')).dropna()\n",
    "prices['Date'] = pd.DatetimeIndex(prices['Date'])\n",
    "prices = prices.set_index('Date')\n",
    "prices_zscored = (prices - prices.mean()) / prices.std()\n",
    "prices.head()"
   ]
  },
  {
   "cell_type": "markdown",
   "metadata": {},
   "source": [
    "Plotting the prices over time suggests a strong correlation. However, the correlation seems to change over time."
   ]
  },
  {
   "cell_type": "code",
   "execution_count": null,
   "metadata": {},
   "outputs": [],
   "source": [
    "fig = plt.figure(figsize=(9, 6))\n",
    "ax = fig.add_subplot(111, xlabel='Price GFI in \\$', ylabel='Price GLD in \\$')\n",
    "colors = np.linspace(0.1, 1, len(prices))\n",
    "mymap = plt.get_cmap(\"winter\")\n",
    "sc = ax.scatter(prices.GFI, prices.GLD, c=colors, cmap=mymap, lw=0)\n",
    "cb = plt.colorbar(sc)\n",
    "cb.ax.set_yticklabels([str(p.date()) for p in prices[::len(prices)//10].index]);"
   ]
  },
  {
   "cell_type": "markdown",
   "metadata": {},
   "source": [
    "## Rolling regression\n",
    "\n",
    "Build a model that will allow for changes in the regression coefficients over time. Specifically, we will assume that intercept and slope follow a random-walk through time. That idea is similar to the [stochastic volatility model](stochastic_volatility.ipynb).\n",
    "\n",
    "$$ \\alpha_t \\sim \\mathcal{N}(\\alpha_{t-1}, \\sigma_\\alpha^2) $$\n",
    "$$ \\beta_t \\sim \\mathcal{N}(\\beta_{t-1}, \\sigma_\\beta^2) $$"
   ]
  },
  {
   "cell_type": "code",
   "execution_count": null,
   "metadata": {},
   "outputs": [],
   "source": [
    "with pm.Model() as model_randomwalk:\n",
    "    # Build the model here"
   ]
  },
  {
   "cell_type": "markdown",
   "metadata": {},
   "source": [
    "Inference. Despite this being quite a complex model, NUTS handles it wells."
   ]
  },
  {
   "cell_type": "code",
   "execution_count": null,
   "metadata": {},
   "outputs": [],
   "source": [
    "with model_randomwalk:\n",
    "    trace_rw = pm.sample(tune=2000, cores=2, \n",
    "                         target_accept=0.99)"
   ]
  },
  {
   "cell_type": "markdown",
   "metadata": {},
   "source": [
    "### Analysis of results"
   ]
  },
  {
   "cell_type": "markdown",
   "metadata": {},
   "source": [
    "As can be seen below, $\\alpha$, the intercept, changes over time."
   ]
  },
  {
   "cell_type": "code",
   "execution_count": null,
   "metadata": {},
   "outputs": [],
   "source": [
    "fig = plt.figure(figsize=(8, 6))\n",
    "ax = plt.subplot(111, xlabel='time', ylabel='alpha', title='Change of alpha over time.')\n",
    "ax.plot(trace_rw['alpha'].T, 'r', alpha=.05);\n",
    "ax.set_xticklabels([str(p.date()) for p in prices[::len(prices)//5].index]);"
   ]
  },
  {
   "cell_type": "markdown",
   "metadata": {},
   "source": [
    "As does the slope."
   ]
  },
  {
   "cell_type": "code",
   "execution_count": null,
   "metadata": {},
   "outputs": [],
   "source": [
    "fig = plt.figure(figsize=(8, 6))\n",
    "ax = fig.add_subplot(111, xlabel='time', ylabel='beta', title='Change of beta over time')\n",
    "ax.plot(trace_rw['beta'].T, 'b', alpha=.05);\n",
    "ax.set_xticklabels([str(p.date()) for p in prices[::len(prices)//5].index]);"
   ]
  },
  {
   "cell_type": "markdown",
   "metadata": {},
   "source": [
    "The posterior predictive plot shows that we capture the change in regression over time much better. Note that we should have used returns instead of prices. The model would still work the same, but the visualisations would not be quite as clear."
   ]
  },
  {
   "cell_type": "code",
   "execution_count": null,
   "metadata": {},
   "outputs": [],
   "source": [
    "fig = plt.figure(figsize=(8, 6))\n",
    "ax = fig.add_subplot(111, xlabel='Price GFI in \\$', ylabel='Price GLD in \\$', \n",
    "            title='Posterior predictive regression lines')\n",
    "\n",
    "colors = np.linspace(0.1, 1, len(prices))\n",
    "colors_sc = np.linspace(0.1, 1, len(trace_rw[::10]['alpha'].T))\n",
    "mymap = plt.get_cmap('winter')\n",
    "mymap_sc = plt.get_cmap('winter')\n",
    "\n",
    "xi = np.linspace(prices_zscored.GFI.min(), prices_zscored.GFI.max(), 50)\n",
    "for i, (alpha, beta) in enumerate(zip(trace_rw[::15]['alpha'].T, \n",
    "                                      trace_rw[::15]['beta'].T)):\n",
    "    for a, b in zip(alpha[::30], beta[::30]):\n",
    "        ax.plot(xi, a + b*xi, alpha=.01, lw=1, \n",
    "                c=mymap_sc(colors_sc[i]))\n",
    "        \n",
    "sc = ax.scatter(prices_zscored.GFI, prices_zscored.GLD, \n",
    "                label='data', cmap=mymap, c=colors)\n",
    "cb = plt.colorbar(sc)\n",
    "cb.ax.set_yticklabels([str(p.date()) for p in prices_zscored[::len(prices)//10].index]);\n",
    "#ax.set(ylim=(100, 190));"
   ]
  }
 ],
 "metadata": {
  "anaconda-cloud": {},
  "celltoolbar": "Slideshow",
  "kernelspec": {
   "display_name": "bayes_course",
   "language": "python",
   "name": "bayes_course"
  },
  "language_info": {
   "codemirror_mode": {
    "name": "ipython",
    "version": 3
   },
   "file_extension": ".py",
   "mimetype": "text/x-python",
   "name": "python",
   "nbconvert_exporter": "python",
   "pygments_lexer": "ipython3",
   "version": "3.7.6"
  },
  "nbpresent": {
   "slides": {},
   "themes": {
    "default": "a58a3342-e087-4f80-b6a8-4d663f20b177",
    "theme": {
     "a58a3342-e087-4f80-b6a8-4d663f20b177": {
      "id": "a58a3342-e087-4f80-b6a8-4d663f20b177",
      "palette": {
       "19cc588f-0593-49c9-9f4b-e4d7cc113b1c": {
        "id": "19cc588f-0593-49c9-9f4b-e4d7cc113b1c",
        "rgb": [
         252,
         252,
         252
        ]
       },
       "31af15d2-7e15-44c5-ab5e-e04b16a89eff": {
        "id": "31af15d2-7e15-44c5-ab5e-e04b16a89eff",
        "rgb": [
         68,
         68,
         68
        ]
       },
       "50f92c45-a630-455b-aec3-788680ec7410": {
        "id": "50f92c45-a630-455b-aec3-788680ec7410",
        "rgb": [
         155,
         177,
         192
        ]
       },
       "c5cc3653-2ee1-402a-aba2-7caae1da4f6c": {
        "id": "c5cc3653-2ee1-402a-aba2-7caae1da4f6c",
        "rgb": [
         43,
         126,
         184
        ]
       },
       "efa7f048-9acb-414c-8b04-a26811511a21": {
        "id": "efa7f048-9acb-414c-8b04-a26811511a21",
        "rgb": [
         25.118061674008803,
         73.60176211453744,
         107.4819383259912
        ]
       }
      },
      "rules": {
       "blockquote": {
        "color": "50f92c45-a630-455b-aec3-788680ec7410"
       },
       "code": {
        "font-family": "Anonymous Pro"
       },
       "h1": {
        "color": "c5cc3653-2ee1-402a-aba2-7caae1da4f6c",
        "font-family": "Lato",
        "font-size": 8
       },
       "h2": {
        "color": "c5cc3653-2ee1-402a-aba2-7caae1da4f6c",
        "font-family": "Lato",
        "font-size": 6
       },
       "h3": {
        "color": "50f92c45-a630-455b-aec3-788680ec7410",
        "font-family": "Lato",
        "font-size": 5.5
       },
       "h4": {
        "color": "c5cc3653-2ee1-402a-aba2-7caae1da4f6c",
        "font-family": "Lato",
        "font-size": 5
       },
       "h5": {
        "font-family": "Lato"
       },
       "h6": {
        "font-family": "Lato"
       },
       "h7": {
        "font-family": "Lato"
       },
       "pre": {
        "font-family": "Anonymous Pro",
        "font-size": 4
       }
      },
      "text-base": {
       "font-family": "Merriweather",
       "font-size": 4
      }
     }
    }
   }
  }
 },
 "nbformat": 4,
 "nbformat_minor": 1
}
